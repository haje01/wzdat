{
 "metadata": {
  "name": "",
  "signature": "sha256:df105920625179a01a4905d5b380aada95f47b5d0f21d15d3883797f11d0883f"
 },
 "nbformat": 3,
 "nbformat_minor": 0,
 "worksheets": [
  {
   "cells": [
    {
     "cell_type": "code",
     "collapsed": false,
     "input": [
      "# this notebook is empty"
     ],
     "language": "python",
     "metadata": {},
     "outputs": []
    }
   ],
   "metadata": {}
  }
 ]
}