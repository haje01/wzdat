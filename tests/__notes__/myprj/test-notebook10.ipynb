{
 "metadata": {
  "name": "",
  "signature": "sha256:e1eeb985415913c0e9aec46fcb461fa262946e1649a57bf1b204f91f2683d410"
 },
 "nbformat": 3,
 "nbformat_minor": 0,
 "worksheets": [
  {
   "cells": [
    {
     "cell_type": "code",
     "collapsed": false,
     "input": [],
     "language": "python",
     "metadata": {},
     "outputs": [],
     "prompt_number": 2
    }
   ],
   "metadata": {}
  }
 ]
}