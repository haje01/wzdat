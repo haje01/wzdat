{
 "metadata": {
  "name": "",
  "signature": "sha256:676dd0424b70e3376f54030915d74d30a2e309a85c29b6cae6e2bd9feaa4e09c"
 },
 "nbformat": 3,
 "nbformat_minor": 0,
 "worksheets": [
  {
   "cells": [
    {
     "cell_type": "code",
     "collapsed": false,
     "input": [
      "#!dashboard_view\n",
      "import time\n",
      "time.time()"
     ],
     "language": "python",
     "metadata": {},
     "outputs": [
      {
       "output_type": "pyout",
       "prompt_number": 2,
       "text": [
        "1424143023.929828"
       ]
      }
     ],
     "prompt_number": 2
    }
   ],
   "metadata": {}
  }
 ]
}