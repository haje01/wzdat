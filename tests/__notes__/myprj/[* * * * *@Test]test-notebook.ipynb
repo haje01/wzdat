{
 "metadata": {
  "name": "",
  "signature": "sha256:d9b81e3094182560feb64e843e93fa3eb257214ac260d832cccd368ff52ce485"
 },
 "nbformat": 3,
 "nbformat_minor": 0,
 "worksheets": [
  {
   "cells": [
    {
     "cell_type": "code",
     "collapsed": false,
     "input": [
      "#!dashboard_view\n",
      "import time\n",
      "time.time()"
     ],
     "language": "python",
     "metadata": {},
     "outputs": [
      {
       "output_type": "pyout",
       "prompt_number": 2,
       "text": [
        "1433755563.329217"
       ]
      }
     ],
     "prompt_number": 2
    },
    {
     "cell_type": "code",
     "collapsed": false,
     "input": [],
     "language": "python",
     "metadata": {},
     "outputs": [],
     "prompt_number": 3
    }
   ],
   "metadata": {}
  }
 ]
}