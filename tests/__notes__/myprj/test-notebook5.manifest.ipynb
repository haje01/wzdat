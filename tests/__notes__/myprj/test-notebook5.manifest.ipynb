{
 "metadata": {
  "name": "",
  "signature": "sha256:b3f0d86ccee8d4629dd5ba91f98894df2077e281d6993cf121fb9da65eceea85"
 },
 "nbformat": 3,
 "nbformat_minor": 0,
 "worksheets": [
  {
   "cells": [
    {
     "cell_type": "code",
     "collapsed": false,
     "input": [
      "# multiple files & hdfs dependency test\n",
      "{\n",
      "    'depends': {\n",
      "        'files': [['ws_mysol.myprj.log', 7], ['ws_mysol.myprj.dump', '7']],\n",
      "        'hdf': [['haje01', 'test'], ['haje01', 'test2']]\n",
      "    },\n",
      "}"
     ],
     "language": "python",
     "metadata": {},
     "outputs": [],
     "prompt_number": 1
    },
    {
     "cell_type": "code",
     "collapsed": false,
     "input": [
      "# WARNING: Generated Checksums. Do Not Edit.\n",
      "{\n",
      "    'last_run': '2015-07-03 14:46:49',\n",
      "    'depends': {\n",
      "        'files': [4155070250783085031, 5916096605180489402],\n",
      "        'hdf': [-1553958430075504556, -862638104001888798]\n",
      "    }\n",
      "}"
     ],
     "language": "python",
     "metadata": {},
     "outputs": [],
     "prompt_number": 1
    }
   ],
   "metadata": {}
  }
 ]
}