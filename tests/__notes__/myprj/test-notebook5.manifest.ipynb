{
 "metadata": {
  "name": "",
  "signature": "sha256:9d91c3812b8145b84c5bf61b2bfe91741187ecb7f7d3283d8e7b85d56caabfad"
 },
 "nbformat": 3,
 "nbformat_minor": 0,
 "worksheets": [
  {
   "cells": [
    {
     "cell_type": "code",
     "collapsed": false,
     "input": [
      "{\n",
      "    'depends': {\n",
      "        'files': [['ws_mysol.myprj.log', 7], ['ws_mysol.myprj.dump', '7']],\n",
      "        'hdf': [['haje01', 'test'], ['haje01', 'test2']]\n",
      "    },\n",
      "}"
     ],
     "language": "python",
     "metadata": {},
     "outputs": [],
     "prompt_number": 1
    },
    {
     "cell_type": "code",
     "collapsed": false,
     "input": [
      "# WARNING: Generated Checksums. Do Not Edit.\n",
      "{\n",
      "    'depends': {\n",
      "        'files': [7859167110091551127, -8868037573364314210]\n",
      "    },\n",
      "    'output': {\n",
      "        'hdf': [-9210520864853562061, -9210520864853562061]\n",
      "    }\n",
      "}"
     ],
     "language": "python",
     "metadata": {},
     "outputs": [],
     "prompt_number": 1
    }
   ],
   "metadata": {}
  }
 ]
}