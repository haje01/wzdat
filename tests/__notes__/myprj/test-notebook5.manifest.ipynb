{
 "metadata": {
  "name": "",
  "signature": "sha256:b3f0d86ccee8d4629dd5ba91f98894df2077e281d6993cf121fb9da65eceea85"
 },
 "nbformat": 3,
 "nbformat_minor": 0,
 "worksheets": [
  {
   "cells": [
    {
     "cell_type": "code",
     "collapsed": false,
     "input": [
      "# multiple files & hdfs dependency test\n",
      "{\n",
      "    'depends': {\n",
      "        'files': [['ws_mysol.myprj.log', 7], ['ws_mysol.myprj.dump', '7']],\n",
      "        'hdf': [['haje01', 'test'], ['haje01', 'test2']]\n",
      "    },\n",
      "}"
     ],
     "language": "python",
     "metadata": {},
     "outputs": [],
     "prompt_number": 1
    },
    {
     "cell_type": "code",
     "collapsed": false,
     "input": [
      "# WARNING: Generated Checksums. Do Not Edit.\n",
      "{\n",
      "    'last_run': '2015-08-18 09:00:36',\n",
      "    'depends': {\n",
      "        'files': [2967575139732457659, -3678234258329634099],\n",
      "        'hdf': [-3519820539584756413, 684408415027402561]\n",
      "    }\n",
      "}"
     ],
     "language": "python",
     "metadata": {},
     "outputs": [],
     "prompt_number": 1
    }
   ],
   "metadata": {}
  }
 ]
}