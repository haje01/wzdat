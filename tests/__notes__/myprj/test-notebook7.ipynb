{
 "metadata": {
  "name": "",
  "signature": "sha256:0442a3d0d05a6f7bba527bcaa166ddd0a55f33b988efa0fa2c87d903b2ac8880"
 },
 "nbformat": 3,
 "nbformat_minor": 0,
 "worksheets": [
  {
   "cells": [
    {
     "cell_type": "code",
     "collapsed": false,
     "input": [
      "print manifest_.depends.files"
     ],
     "language": "python",
     "metadata": {},
     "outputs": [
      {
       "output_type": "stream",
       "stream": "stdout",
       "text": [
        " \r",
        "collecting file info [==                 4%                  ]  1 of 27 complete"
       ]
      },
      {
       "output_type": "stream",
       "stream": "stdout",
       "text": [
        " \r",
        "collecting file info [================ 100%==================]  27 of 27 complete"
       ]
      },
      {
       "output_type": "stream",
       "stream": "stdout",
       "text": [
        " jp/node-1/dump/game-20140305-1.dmp\n",
        "jp/node-2/dump/game-20140305-3.dmp\n",
        "jp/node-3/dump/game-20140303-1.dmp\n",
        "kr/node-1/dump/community-20140303.dmp\n",
        "kr/node-1/dump/game-20140304-1.dmp\n",
        "kr/node-2/dump/community-20140305.dmp\n",
        "kr/node-2/dump/game-20140303-1.dmp\n",
        "kr/node-3/dump/community-20140305.dmp\n",
        "us/node-1/dump/auth-20140303.dmp\n",
        "us/node-2/dump/community-20140304.dmp\n",
        "us/node-3/dump/community-20140304.dmp\n",
        "us/node-3/dump/game-20140303-3.dmp\n",
        "2015/08/11 15:30:22 [DEBUG] - __exit__ for /Users/haje01/works/wzdat/tests/__notes__/myprj/test-notebook7.manifest.ipynb\n"
       ]
      },
      {
       "output_type": "stream",
       "stream": "stdout",
       "text": [
        "2015/08/11 15:30:23 [INFO] - Cell returned\n"
       ]
      },
      {
       "output_type": "stream",
       "stream": "stdout",
       "text": [
        "2015/08/11 15:30:23 [INFO] - Cell returned\n"
       ]
      }
     ],
     "prompt_number": 1
    },
    {
     "cell_type": "code",
     "collapsed": false,
     "input": [
      "from wzdat.util import HDF\n",
      "with HDF('haje01') as hdf:\n",
      "    hdf.store['test4'] = DataFrame(np.random.randint(0, 10, 10))"
     ],
     "language": "python",
     "metadata": {},
     "outputs": [],
     "prompt_number": 2
    }
   ],
   "metadata": {}
  }
 ]
}