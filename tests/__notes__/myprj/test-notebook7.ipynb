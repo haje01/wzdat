{
 "metadata": {
  "name": "",
  "signature": "sha256:ad3a227ecb8917dc67df578829113f3582c3122151f990cce5bd78f59039d5d7"
 },
 "nbformat": 3,
 "nbformat_minor": 0,
 "worksheets": [
  {
   "cells": [
    {
     "cell_type": "code",
     "collapsed": false,
     "input": [
      "from wzdat.manifest import Manifest\n",
      "\n",
      "with Manifest() as manifest:\n",
      "    print manifest.depends.files"
     ],
     "language": "python",
     "metadata": {},
     "outputs": [
      {
       "output_type": "stream",
       "stream": "stdout",
       "text": [
        " \r",
        "collecting file info [==                 4%                  ]  1 of 27 complete"
       ]
      },
      {
       "output_type": "stream",
       "stream": "stdout",
       "text": [
        " \r",
        "collecting file info [================ 100%==================]  27 of 27 complete"
       ]
      },
      {
       "output_type": "stream",
       "stream": "stdout",
       "text": [
        " jp/node-3/dump/community-20140305.dmp\n",
        "jp/node-3/dump/game-20140303-1.dmp\n",
        "kr/node-1/dump/auth-20140305.dmp\n",
        "kr/node-2/dump/community-20140304.dmp\n",
        "kr/node-2/dump/game-20140305-2.dmp\n",
        "us/node-1/dump/community-20140305.dmp\n",
        "us/node-3/dump/community-20140304.dmp\n",
        "2015/07/03 14:46:33 [DEBUG] - __exit__ for /Users/haje01/works/wzdat/tests/__notes__/myprj/test-notebook7.manifest.ipynb\n"
       ]
      },
      {
       "output_type": "stream",
       "stream": "stdout",
       "text": [
        "2015/07/03 14:46:34 [INFO] - Cell returned\n"
       ]
      },
      {
       "output_type": "stream",
       "stream": "stdout",
       "text": [
        "2015/07/03 14:46:34 [INFO] - Cell returned\n"
       ]
      }
     ],
     "prompt_number": 1
    },
    {
     "cell_type": "code",
     "collapsed": false,
     "input": [
      "from wzdat.util import HDF\n",
      "with HDF('haje01') as hdf:\n",
      "    hdf.store['test4'] = DataFrame(np.random.randint(0, 10, 10))"
     ],
     "language": "python",
     "metadata": {},
     "outputs": [],
     "prompt_number": 2
    }
   ],
   "metadata": {}
  }
 ]
}