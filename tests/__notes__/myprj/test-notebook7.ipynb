{
 "metadata": {
  "name": "",
  "signature": "sha256:0442a3d0d05a6f7bba527bcaa166ddd0a55f33b988efa0fa2c87d903b2ac8880"
 },
 "nbformat": 3,
 "nbformat_minor": 0,
 "worksheets": [
  {
   "cells": [
    {
     "cell_type": "code",
     "collapsed": false,
     "input": [
      "print manifest_.depends.files"
     ],
     "language": "python",
     "metadata": {},
     "outputs": [
      {
       "output_type": "stream",
       "stream": "stdout",
       "text": [
        "jp/node-1/dump/community-20140305.dmp\n",
        "jp/node-1/dump/game-20140304-3.dmp\n",
        "jp/node-2/dump/auth-20140304.dmp\n",
        "jp/node-2/dump/game-20140303-3.dmp\n",
        "kr/node-2/dump/community-20140304.dmp\n",
        "kr/node-3/dump/community-20140304.dmp\n",
        "test/jp/node-1/dump/community-20140305.dmp\n",
        "test/jp/node-1/dump/game-20140304-3.dmp\n",
        "test/jp/node-2/dump/auth-20140304.dmp\n",
        "test/jp/node-2/dump/game-20140303-3.dmp\n",
        "test/kr/node-2/dump/community-20140304.dmp\n",
        "test/kr/node-3/dump/community-20140304.dmp\n",
        "test/us/node-1/dump/community-20140303.dmp\n",
        "test/us/node-2/dump/auth-20140304.dmp\n",
        "test/us/node-3/dump/auth-20140305.dmp\n",
        "us/node-1/dump/community-20140303.dmp\n",
        "us/node-2/dump/auth-20140304.dmp\n",
        "us/node-3/dump/auth-20140305.dmp\n"
       ]
      }
     ],
     "prompt_number": 2
    },
    {
     "cell_type": "code",
     "collapsed": false,
     "input": [
      "from wzdat.util import HDF\n",
      "with HDF('haje01') as hdf:\n",
      "    hdf.store['test4'] = DataFrame(np.random.randint(0, 10, 10))"
     ],
     "language": "python",
     "metadata": {},
     "outputs": [],
     "prompt_number": 3
    }
   ],
   "metadata": {}
  }
 ]
}