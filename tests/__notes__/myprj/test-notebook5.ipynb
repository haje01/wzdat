{
 "metadata": {
  "name": "",
  "signature": "sha256:db188cfa74430d8c48972b333def9294c63d32a4f05a2ec2e120a46b60a7ee6b"
 },
 "nbformat": 3,
 "nbformat_minor": 0,
 "worksheets": [
  {
   "cells": [
    {
     "cell_type": "code",
     "collapsed": false,
     "input": [
      "print manifest_._path\n",
      "print manifest_.depends.files[0]"
     ],
     "language": "python",
     "metadata": {},
     "outputs": [
      {
       "output_type": "stream",
       "stream": "stdout",
       "text": [
        " \r",
        "collecting file info [==                 4%                  ]  1 of 27 complete"
       ]
      },
      {
       "output_type": "stream",
       "stream": "stdout",
       "text": [
        " \r",
        "collecting file info [================ 100%==================]  27 of 27 complete"
       ]
      },
      {
       "output_type": "stream",
       "stream": "stdout",
       "text": [
        " /wzdat/tests/__notes__/myprj/test-notebook5.manifest.ipynb\n",
        "<class 'wzdat.selector.FileSelector'>\n",
        "file count: 315\n",
        "size: 253.2 KB"
       ]
      },
      {
       "output_type": "stream",
       "stream": "stdout",
       "text": [
        "\n",
        "2015/08/11 06:31:29 [DEBUG] - __exit__ for /wzdat/tests/__notes__/myprj/test-notebook5.manifest.ipynb\n"
       ]
      },
      {
       "output_type": "stream",
       "stream": "stdout",
       "text": [
        "2015/08/11 06:31:30 [INFO] - Cell returned\n"
       ]
      },
      {
       "output_type": "stream",
       "stream": "stdout",
       "text": [
        "2015/08/11 06:31:30 [INFO] - Cell returned\n"
       ]
      }
     ],
     "prompt_number": 2
    },
    {
     "cell_type": "code",
     "collapsed": false,
     "input": [],
     "language": "python",
     "metadata": {},
     "outputs": [],
     "prompt_number": 3
    }
   ],
   "metadata": {}
  }
 ]
}