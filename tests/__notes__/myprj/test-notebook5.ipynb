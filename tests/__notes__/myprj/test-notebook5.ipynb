{
 "metadata": {
  "name": "",
  "signature": "sha256:c5f14a3acc9dc6d73eb137b48e65f2015e2ddd10cc3260d33224647ac946b219"
 },
 "nbformat": 3,
 "nbformat_minor": 0,
 "worksheets": [
  {
   "cells": [
    {
     "cell_type": "code",
     "collapsed": false,
     "input": [
      "from wzdat.manifest import Manifest\n",
      "with Manifest() as manifest:\n",
      "    print manifest.depends.files[0]"
     ],
     "language": "python",
     "metadata": {},
     "outputs": [
      {
       "output_type": "stream",
       "stream": "stdout",
       "text": [
        " \r",
        "collecting file info [================ 100%==================]  448 of 450 complete"
       ]
      },
      {
       "output_type": "stream",
       "stream": "stdout",
       "text": [
        " \r",
        "collecting file info [================ 100%==================]  450 of 450 complete"
       ]
      },
      {
       "output_type": "stream",
       "stream": "stdout",
       "text": [
        " jp/node-1/log/auth_2014-02-27.log\n"
       ]
      }
     ],
     "prompt_number": 1
    },
    {
     "cell_type": "code",
     "collapsed": false,
     "input": [],
     "language": "python",
     "metadata": {},
     "outputs": [],
     "prompt_number": 2
    }
   ],
   "metadata": {}
  }
 ]
}