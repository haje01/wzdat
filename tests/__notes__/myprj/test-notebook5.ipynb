{
 "metadata": {
  "name": "",
  "signature": "sha256:c0256caf3601cd351cce24ccc435f9dcca75605445c183370ea2020609d73db3"
 },
 "nbformat": 3,
 "nbformat_minor": 0,
 "worksheets": [
  {
   "cells": [
    {
     "cell_type": "code",
     "collapsed": false,
     "input": [
      "from wzdat.util import Manifest\n",
      "manifest = Manifest()"
     ],
     "language": "python",
     "metadata": {},
     "outputs": [
      {
       "output_type": "stream",
       "stream": "stdout",
       "text": [
        " \r",
        "collecting file info [==                 4%                  ]  1 of 27 complete"
       ]
      },
      {
       "output_type": "stream",
       "stream": "stdout",
       "text": [
        " \r",
        "collecting file info [================ 100%==================]  27 of 27 complete"
       ]
      },
      {
       "output_type": "stream",
       "stream": "stdout",
       "text": [
        " with HDF(\"haje01\") as hdf:\n",
        "    depends.hdf.append(hdf.store[\"test\"])\n",
        "with HDF(\"haje01\") as hdf:\n",
        "    depends.hdf.append(hdf.store[\"test2\"])"
       ]
      },
      {
       "output_type": "stream",
       "stream": "stdout",
       "text": [
        "\n"
       ]
      }
     ],
     "prompt_number": 1
    },
    {
     "cell_type": "code",
     "collapsed": false,
     "input": [
      "%debug"
     ],
     "language": "python",
     "metadata": {},
     "outputs": [
      {
       "output_type": "stream",
       "stream": "stdout",
       "text": [
        "> \u001b[1;32m/usr/local/lib/python2.7/dist-packages/pandas/io/pytables.py\u001b[0m(639)\u001b[0;36mget\u001b[1;34m()\u001b[0m\n",
        "\u001b[1;32m    638 \u001b[1;33m        \u001b[1;32mif\u001b[0m \u001b[0mgroup\u001b[0m \u001b[1;32mis\u001b[0m \u001b[0mNone\u001b[0m\u001b[1;33m:\u001b[0m\u001b[1;33m\u001b[0m\u001b[0m\n",
        "\u001b[0m\u001b[1;32m--> 639 \u001b[1;33m            \u001b[1;32mraise\u001b[0m \u001b[0mKeyError\u001b[0m\u001b[1;33m(\u001b[0m\u001b[1;34m'No object named %s in the file'\u001b[0m \u001b[1;33m%\u001b[0m \u001b[0mkey\u001b[0m\u001b[1;33m)\u001b[0m\u001b[1;33m\u001b[0m\u001b[0m\n",
        "\u001b[0m\u001b[1;32m    640 \u001b[1;33m        \u001b[1;32mreturn\u001b[0m \u001b[0mself\u001b[0m\u001b[1;33m.\u001b[0m\u001b[0m_read_group\u001b[0m\u001b[1;33m(\u001b[0m\u001b[0mgroup\u001b[0m\u001b[1;33m)\u001b[0m\u001b[1;33m\u001b[0m\u001b[0m\n",
        "\u001b[0m\n"
       ]
      },
      {
       "name": "stdout",
       "output_type": "stream",
       "stream": "stdout",
       "text": [
        "ipdb> cmd\n"
       ]
      },
      {
       "output_type": "stream",
       "stream": "stdout",
       "text": [
        " *** NameError: name 'cmd' is not defined\n"
       ]
      },
      {
       "name": "stdout",
       "output_type": "stream",
       "stream": "stdout",
       "text": [
        "ipdb> exit\n"
       ]
      }
     ],
     "prompt_number": 2
    },
    {
     "cell_type": "code",
     "collapsed": false,
     "input": [
      "manifest.depends.files[1]"
     ],
     "language": "python",
     "metadata": {},
     "outputs": [
      {
       "metadata": {},
       "output_type": "pyout",
       "prompt_number": 4,
       "text": [
        "jp/node-1/dump/auth-20140301.dmp\n",
        "jp/node-1/dump/community-20140227.dmp\n",
        "jp/node-2/dump/auth-20140227.dmp\n",
        "jp/node-2/dump/community-20140304.dmp\n",
        "jp/node-2/dump/game-20140303-2.dmp\n",
        "jp/node-3/dump/auth-20140227.dmp\n",
        "jp/node-3/dump/community-20140303.dmp\n",
        "jp/node-3/dump/game-20140228-3.dmp\n",
        "kr/node-1/dump/auth-20140302.dmp\n",
        "kr/node-1/dump/community-20140301.dmp\n",
        "kr/node-2/dump/auth-20140227.dmp\n",
        "kr/node-2/dump/game-20140302-2.dmp\n",
        "kr/node-3/dump/auth-20140302.dmp\n",
        "kr/node-3/dump/community-20140304.dmp\n",
        "kr/node-3/dump/game-20140303-3.dmp\n",
        "us/node-1/dump/auth-20140305.dmp\n",
        "us/node-1/dump/community-20140304.dmp\n",
        "us/node-2/dump/auth-20140227.dmp\n",
        "us/node-2/dump/game-20140302-3.dmp\n",
        "us/node-3/dump/auth-20140303.dmp\n",
        "us/node-3/dump/community-20140304.dmp"
       ]
      }
     ],
     "prompt_number": 4
    },
    {
     "cell_type": "code",
     "collapsed": false,
     "input": [],
     "language": "python",
     "metadata": {},
     "outputs": []
    }
   ],
   "metadata": {}
  }
 ]
}