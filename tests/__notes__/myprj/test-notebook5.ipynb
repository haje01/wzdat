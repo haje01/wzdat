{
 "metadata": {
  "name": "",
  "signature": "sha256:fd9fcec1c9998e6c5b9a295b4d429755307ca2f17d0e746819ac886798450764"
 },
 "nbformat": 3,
 "nbformat_minor": 0,
 "worksheets": [
  {
   "cells": [
    {
     "cell_type": "code",
     "collapsed": false,
     "input": [
      "from wzdat.manifest import Manifest\n",
      "with Manifest() as manifest:\n",
      "    print manifest._path\n",
      "    print manifest.depends.files[0]"
     ],
     "language": "python",
     "metadata": {},
     "outputs": [
      {
       "output_type": "stream",
       "stream": "stdout",
       "text": [
        " \r",
        "collecting file info [==                 4%                  ]  1 of 27 complete"
       ]
      },
      {
       "output_type": "stream",
       "stream": "stdout",
       "text": [
        " \r",
        "collecting file info [================ 100%==================]  27 of 27 complete"
       ]
      },
      {
       "output_type": "stream",
       "stream": "stdout",
       "text": [
        " /Users/haje01/works/wzdat/tests/__notes__/myprj/test-notebook5.manifest.ipynb\n",
        "<class 'wzdat.selector.FileSelector'>\n",
        "file count: 316\n",
        "size: 253.2 KB\n",
        "2015/07/03 14:46:48 [DEBUG] - __exit__ for /Users/haje01/works/wzdat/tests/__notes__/myprj/test-notebook5.manifest.ipynb\n"
       ]
      },
      {
       "output_type": "stream",
       "stream": "stdout",
       "text": [
        "2015/07/03 14:46:49 [INFO] - Cell returned\n"
       ]
      },
      {
       "output_type": "stream",
       "stream": "stdout",
       "text": [
        "2015/07/03 14:46:49 [INFO] - Cell returned\n"
       ]
      }
     ],
     "prompt_number": 1
    },
    {
     "cell_type": "code",
     "collapsed": false,
     "input": [],
     "language": "python",
     "metadata": {},
     "outputs": [],
     "prompt_number": 2
    }
   ],
   "metadata": {}
  }
 ]
}