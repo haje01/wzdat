{
 "metadata": {
  "name": "",
  "signature": "sha256:db188cfa74430d8c48972b333def9294c63d32a4f05a2ec2e120a46b60a7ee6b"
 },
 "nbformat": 3,
 "nbformat_minor": 0,
 "worksheets": [
  {
   "cells": [
    {
     "cell_type": "code",
     "collapsed": false,
     "input": [
      "print manifest_._path\n",
      "print manifest_.depends.files[0]"
     ],
     "language": "python",
     "metadata": {},
     "outputs": [
      {
       "output_type": "stream",
       "stream": "stdout",
       "text": [
        "/wzdat/tests/__notes__/myprj/test-notebook5.manifest.ipynb\n",
        "<class 'wzdat.selector.FileSelector'>\n",
        "file count: 630\n",
        "size: 506.3 KB"
       ]
      },
      {
       "output_type": "stream",
       "stream": "stdout",
       "text": [
        "\n"
       ]
      }
     ],
     "prompt_number": 2
    },
    {
     "cell_type": "code",
     "collapsed": false,
     "input": [],
     "language": "python",
     "metadata": {},
     "outputs": [],
     "prompt_number": 3
    }
   ],
   "metadata": {}
  }
 ]
}