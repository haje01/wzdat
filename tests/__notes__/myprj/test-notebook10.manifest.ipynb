{
 "metadata": {
  "name": "",
  "signature": "sha256:6c908e65aa918bdcfd2c431579424f765fa49e8d7b866406f59d18f8f44af27b"
 },
 "nbformat": 3,
 "nbformat_minor": 0,
 "worksheets": [
  {
   "cells": [
    {
     "cell_type": "code",
     "collapsed": false,
     "input": [
      "{\n",
      "    'depends': {\n",
      "        'files': ['ws_mysol.myprj.log', 7]\n",
      "    }\n",
      "}"
     ],
     "language": "python",
     "metadata": {},
     "outputs": []
    }
   ],
   "metadata": {}
  }
 ]
}