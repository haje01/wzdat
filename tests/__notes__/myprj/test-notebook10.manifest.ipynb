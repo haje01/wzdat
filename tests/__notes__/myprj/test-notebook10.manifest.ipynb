{
 "metadata": {
  "name": "",
  "signature": "sha256:5b400c12ee699ddbd3432e7aba0eab74e7a8b5c7285185d342a9a0eed257541b"
 },
 "nbformat": 3,
 "nbformat_minor": 0,
 "worksheets": [
  {
   "cells": [
    {
     "cell_type": "code",
     "collapsed": false,
     "input": [
      "{\n",
      "    'depends': {\n",
      "        'files': ['ws_mysol.myprj.log', 7]\n",
      "    }\n",
      "}"
     ],
     "language": "python",
     "metadata": {},
     "outputs": [],
     "prompt_number": 1
    },
    {
     "cell_type": "code",
     "collapsed": false,
     "input": [
      "# WARNING: Generated Checksums. Do Not Edit.\n",
      "{\n",
      "    'last_run': '2015-08-07 16:13:08',\n",
      "    'depends': {\n",
      "        'files': 8875249185536240278\n",
      "    }\n",
      "}"
     ],
     "language": "python",
     "metadata": {},
     "outputs": [],
     "prompt_number": 1
    }
   ],
   "metadata": {}
  }
 ]
}