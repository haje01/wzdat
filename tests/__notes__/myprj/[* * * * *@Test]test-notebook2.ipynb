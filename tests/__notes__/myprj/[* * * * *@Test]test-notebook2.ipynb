{
 "metadata": {
  "name": "",
  "signature": "sha256:40f702694f2ddfb17d83888e31a08d45ca04c5f77cac0d1c78138c2e825e3a0f"
 },
 "nbformat": 3,
 "nbformat_minor": 0,
 "worksheets": [
  {
   "cells": [
    {
     "cell_type": "code",
     "collapsed": false,
     "input": [
      "#!dashboard_control\n",
      "from wzdat.dashboard.control import Form, Select\n",
      "form = Form()\n",
      "fruits = ['--', 'Apple', 'Banana', 'Orage']\n",
      "form['my_fruit'] = Select(fruits, fruits, 0, u'Choose Fruit To Eat')\n",
      "print form.register('form')"
     ],
     "language": "python",
     "metadata": {},
     "outputs": [
      {
       "output_type": "stream",
       "stream": "stdout",
       "text": [
        "<form class=\"form-inline ds-ctrl\" role=\"form\">\n",
        " <div class=\"form-group\">\n",
        "  <label>\n",
        "   Choose Fruit To Eat\n",
        "  </label>\n",
        "  <select name=\"my_fruit\">\n",
        "   <option value=\"--\" selected=\"true\">\n",
        "    --\n",
        "   </option>\n",
        "   <option value=\"Apple\">\n",
        "    Apple\n",
        "   </option>\n",
        "   <option value=\"Banana\">\n",
        "    Banana\n",
        "   </option>\n",
        "   <option value=\"Orage\">\n",
        "    Orage\n",
        "   </option>\n",
        "  </select>\n",
        " </div>\n",
        " <input type=\"hidden\" name=\"wzd_formname\" value=\"form\" />\n",
        " <button class=\"btn btn-primary btn-sm ladda-button view\" data-style=\"expand-right\" data-size=\"s\">\n",
        "  <span class=\"ladda-label\">\n",
        "   View\n",
        "  </span>\n",
        " </button>\n",
        "</form>\n"
       ]
      }
     ],
     "prompt_number": 26
    },
    {
     "cell_type": "code",
     "collapsed": false,
     "input": [
      "#!dashboard_view\n",
      "my_fruit = form['my_fruit'].val\n",
      "if my_fruit != '--':\n",
      "    print('Tasty {}!'.format(my_fruit))"
     ],
     "language": "python",
     "metadata": {},
     "outputs": [],
     "prompt_number": 24
    },
    {
     "cell_type": "code",
     "collapsed": false,
     "input": [],
     "language": "python",
     "metadata": {},
     "outputs": []
    }
   ],
   "metadata": {}
  }
 ]
}