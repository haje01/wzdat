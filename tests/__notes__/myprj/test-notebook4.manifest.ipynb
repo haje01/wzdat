{
 "metadata": {
  "name": "",
  "signature": "sha256:49a6b3dd2d1571fc6dea8a20ad87cb56d2f90d65d95f220b54491423ef940941"
 },
 "nbformat": 3,
 "nbformat_minor": 0,
 "worksheets": [
  {
   "cells": [
    {
     "cell_type": "code",
     "collapsed": false,
     "input": [
      "{\n",
      "    'depends': {\n",
      "        'hdf': ['haje01', 'test']\n",
      "    }\n",
      "}"
     ],
     "language": "python",
     "metadata": {},
     "outputs": [],
     "prompt_number": 1
    },
    {
     "cell_type": "code",
     "collapsed": false,
     "input": [
      "# WARNING: Generated Checksums. Do Not Edit.\n",
      "{\n",
      "    'output': {\n",
      "        'hdf': -9210520864853562061\n",
      "    }\n",
      "}"
     ],
     "language": "python",
     "metadata": {},
     "outputs": [],
     "prompt_number": 1
    }
   ],
   "metadata": {}
  }
 ]
}