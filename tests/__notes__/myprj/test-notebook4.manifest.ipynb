{
 "metadata": {
  "name": "",
  "signature": "sha256:6e0b6bc8991c34b9b51dcef1b7f3e9d8f50565a3ad32eea2118c44ab3b97a62e"
 },
 "nbformat": 3,
 "nbformat_minor": 0,
 "worksheets": [
  {
   "cells": [
    {
     "cell_type": "code",
     "collapsed": false,
     "input": [
      "{\n",
      "    'depends': {\n",
      "        'hdf': ['haje01', 'test']\n",
      "    },\n",
      "    'output': {\n",
      "        'hdf': ['haje01', 'test2']\n",
      "    }\n",
      "}"
     ],
     "language": "python",
     "metadata": {},
     "outputs": [],
     "prompt_number": 1
    },
    {
     "cell_type": "code",
     "collapsed": false,
     "input": [
      "# WARNING: Generated Checksums. Do Not Edit.\n",
      "{\n",
      "    'last_run': '2015-08-10 12:38:48',\n",
      "    'depends': {\n",
      "        'hdf': -1553958430075504556\n",
      "    },\n",
      "    'output': {\n",
      "        'hdf': -862638104001888798\n",
      "    }\n",
      "}"
     ],
     "language": "python",
     "metadata": {},
     "outputs": [],
     "prompt_number": 1
    }
   ],
   "metadata": {}
  }
 ]
}