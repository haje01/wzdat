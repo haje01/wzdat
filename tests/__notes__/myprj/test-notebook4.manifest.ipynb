{
 "metadata": {
  "name": "",
  "signature": "sha256:eb809c5704814407a49eb1038b31c6fd7140249d8df3f216f8087f3556256303"
 },
 "nbformat": 3,
 "nbformat_minor": 0,
 "worksheets": [
  {
   "cells": [
    {
     "cell_type": "code",
     "collapsed": false,
     "input": [
      "{\n",
      "    'depends': {\n",
      "        'hdf': ['haje01', 'test']\n",
      "    },\n",
      "    'output': {\n",
      "        'hdf': ['haje01', 'test2']\n",
      "    }\n",
      "}"
     ],
     "language": "python",
     "metadata": {},
     "outputs": [],
     "prompt_number": 1
    },
    {
     "cell_type": "code",
     "collapsed": false,
     "input": [
      "# WARNING: Generated Checksums. Do Not Edit.\n",
      "{\n",
      "    'depends': {\n",
      "        'hdf': -9210520864853562061\n",
      "    },\n",
      "    'output': {\n",
      "        'hdf': -9210520864853562061\n",
      "    }\n",
      "}"
     ],
     "language": "python",
     "metadata": {},
     "outputs": [],
     "prompt_number": 1
    }
   ],
   "metadata": {}
  }
 ]
}