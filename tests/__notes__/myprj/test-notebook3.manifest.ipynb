{
 "metadata": {
  "name": "",
  "signature": "sha256:aa87855b67b04ee64e577ef18c5d0edb453b44fa88c120668304ee32a03e21a8"
 },
 "nbformat": 3,
 "nbformat_minor": 0,
 "worksheets": [
  {
   "cells": [
    {
     "cell_type": "code",
     "collapsed": false,
     "input": [
      "{\n",
      "    'depends': {\n",
      "        'files': ['ws_mysol.myprj.log', 7],\n",
      "    },\n",
      "    'output': {\n",
      "        'hdf': ['haje01', 'test']\n",
      "    }\n",
      "}"
     ],
     "language": "python",
     "metadata": {},
     "outputs": [],
     "prompt_number": 1
    },
    {
     "cell_type": "code",
     "collapsed": false,
     "input": [
      "# WARNING: Generated Checksums. Do Not Edit.\n",
      "{\n",
      "    'last_run': '2015-06-12 12:19:52',\n",
      "    'depends': {\n",
      "        'files': 4155070250783085031\n",
      "    },\n",
      "    'output': {\n",
      "        'hdf': -1553958430075504556\n",
      "    }\n",
      "}"
     ],
     "language": "python",
     "metadata": {},
     "outputs": [],
     "prompt_number": 1
    }
   ],
   "metadata": {}
  }
 ]
}