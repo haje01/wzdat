{
 "metadata": {
  "name": "",
  "signature": "sha256:e2e341757588d35e42f26e798f2dee90483879d0d858dfd5634ea07b1301a85b"
 },
 "nbformat": 3,
 "nbformat_minor": 0,
 "worksheets": [
  {
   "cells": [
    {
     "cell_type": "code",
     "collapsed": false,
     "input": [
      "{\n",
      "    'depends': {\n",
      "        'files': ['ws_mysol.myprj.log', 7],\n",
      "    },\n",
      "    'output': {\n",
      "        'hdf': ['haje01', 'test']\n",
      "    }\n",
      "}"
     ],
     "language": "python",
     "metadata": {},
     "outputs": [],
     "prompt_number": 1
    },
    {
     "cell_type": "code",
     "collapsed": false,
     "input": [
      "# WARNING: Generated Checksums. Do Not Edit.\n",
      "{\n",
      "    'last_run': '2015-08-18 03:43:04',\n",
      "    'depends': {\n",
      "        'files': 8875249185536240278\n",
      "    },\n",
      "    'output': {\n",
      "        'hdf': 5917511075693791499\n",
      "    }\n",
      "}"
     ],
     "language": "python",
     "metadata": {},
     "outputs": [],
     "prompt_number": 1
    }
   ],
   "metadata": {}
  }
 ]
}