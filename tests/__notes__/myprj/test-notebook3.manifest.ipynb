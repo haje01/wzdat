{
 "metadata": {
  "name": "",
  "signature": "sha256:e2e341757588d35e42f26e798f2dee90483879d0d858dfd5634ea07b1301a85b"
 },
 "nbformat": 3,
 "nbformat_minor": 0,
 "worksheets": [
  {
   "cells": [
    {
     "cell_type": "code",
     "collapsed": false,
     "input": [
      "{\n",
      "    'depends': {\n",
      "        'files': ['ws_mysol.myprj.log', 7],\n",
      "    },\n",
      "    'output': {\n",
      "        'hdf': ['haje01', 'test']\n",
      "    }\n",
      "}"
     ],
     "language": "python",
     "metadata": {},
     "outputs": [
      {
       "output_type": "stream",
       "stream": "stdout",
       "text": [
        "\r",
        "collecting file info [                   0%                  ]"
       ]
      },
      {
       "output_type": "stream",
       "stream": "stdout",
       "text": [
        " \r",
        "collecting file info [================ 100%==================]  0 of 0 complete"
       ]
      },
      {
       "output_type": "pyout",
       "prompt_number": 1,
       "text": [
        "{'depends': {'files': ['ws_mysol.myprj.log', 7]},\n",
        " 'output': {'hdf': ['haje01', 'test']}}"
       ]
      },
      {
       "output_type": "stream",
       "stream": "stdout",
       "text": [
        "\n"
       ]
      }
     ],
     "prompt_number": 1
    },
    {
     "cell_type": "code",
     "collapsed": false,
     "input": [
      "# WARNING: Generated Checksums. Do Not Edit.\n",
      "{\n",
      "    'last_run': '2015-08-18 08:59:18',\n",
      "    'depends': {\n",
      "        'files': 2967575139732457659\n",
      "    },\n",
      "    'output': {\n",
      "        'hdf': -3519820539584756413\n",
      "    }\n",
      "}"
     ],
     "language": "python",
     "metadata": {},
     "outputs": [
      {
       "output_type": "pyout",
       "prompt_number": 2,
       "text": [
        "{'depends': {'files': 2967575139732457659},\n",
        " 'last_run': '2015-08-18 08:59:18',\n",
        " 'output': {'hdf': -3519820539584756413}}"
       ]
      }
     ],
     "prompt_number": 2
    }
   ],
   "metadata": {}
  }
 ]
}