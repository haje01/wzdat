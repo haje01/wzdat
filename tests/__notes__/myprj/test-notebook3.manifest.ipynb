{
 "metadata": {
  "name": "",
  "signature": "sha256:6b529a5fba652792e16e4803b21e5f40739bcbeb645a810b351c3e05e9fbe0be"
 },
 "nbformat": 3,
 "nbformat_minor": 0,
 "worksheets": [
  {
   "cells": [
    {
     "cell_type": "code",
     "collapsed": false,
     "input": [
      "{\n",
      "    'depends': {\n",
      "        'files': ['ws_mysol.myprj.log', 14],\n",
      "    },\n",
      "    'output': {\n",
      "        'hdf': ['haje01', 'test']\n",
      "    }\n",
      "}"
     ],
     "language": "python",
     "metadata": {},
     "outputs": [],
     "prompt_number": 1
    },
    {
     "cell_type": "code",
     "collapsed": false,
     "input": [
      "# WARNING: Generated Checksums. Do Not Edit.\n",
      "{\n",
      "    'depends': {\n",
      "        'files': -7894566527355171784\n",
      "    },\n",
      "    'output': {\n",
      "        'hdf': 8951029343500071180\n",
      "    }\n",
      "}"
     ],
     "language": "python",
     "metadata": {},
     "outputs": [],
     "prompt_number": 1
    }
   ],
   "metadata": {}
  }
 ]
}