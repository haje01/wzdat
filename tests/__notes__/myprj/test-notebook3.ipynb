{
 "metadata": {
  "name": "",
  "signature": "sha256:db4a75c7627deb6e78f1d8d716916108e90d532e60b0ca2e868783deb45f94fe"
 },
 "nbformat": 3,
 "nbformat_minor": 0,
 "worksheets": [
  {
   "cells": [
    {
     "cell_type": "code",
     "collapsed": false,
     "input": [
      "from wzdat.manifest import Manifest\n",
      "\n",
      "with Manifest() as manifest:\n",
      "    df = manifest.depends.files.to_frame()\n",
      "    df.msg = df.msg.apply(lambda m: m.encode('utf8'))\n",
      "    manifest.output.hdf = df"
     ],
     "language": "python",
     "metadata": {},
     "outputs": [
      {
       "output_type": "stream",
       "stream": "stdout",
       "text": [
        " \r",
        "to_frame [================= 50%                  ]  91 of 181 complete"
       ]
      },
      {
       "output_type": "stream",
       "stream": "stdout",
       "text": [
        " \r",
        "to_frame [================ 100%==================]  181 of 181 complete"
       ]
      },
      {
       "output_type": "stream",
       "stream": "stdout",
       "text": [
        "\n"
       ]
      }
     ],
     "prompt_number": 1
    }
   ],
   "metadata": {}
  }
 ]
}