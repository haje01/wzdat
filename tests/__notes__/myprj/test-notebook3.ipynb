{
 "metadata": {
  "name": "",
  "signature": "sha256:ccf57e9390fd9e02233a516d13c94e6f9719eb7256ca8dc227cfc7b043bc8b03"
 },
 "nbformat": 3,
 "nbformat_minor": 0,
 "worksheets": [
  {
   "cells": [
    {
     "cell_type": "code",
     "collapsed": false,
     "input": [
      "from wzdat.manifest import Manifest\n",
      "\n",
      "with Manifest() as manifest:\n",
      "    df = manifest.depends.files.to_frame()\n",
      "    df.msg = df.msg.apply(lambda m: m.encode('utf8'))\n",
      "    manifest.output.hdf = df"
     ],
     "language": "python",
     "metadata": {},
     "outputs": [
      {
       "output_type": "stream",
       "stream": "stdout",
       "text": [
        " \r",
        "to_frame [================ 100%==================]  314 of 315 complete"
       ]
      },
      {
       "output_type": "stream",
       "stream": "stdout",
       "text": [
        " \r",
        "to_frame [================ 100%==================]  315 of 315 complete"
       ]
      },
      {
       "output_type": "stream",
       "stream": "stdout",
       "text": [
        "2015/08/06 04:12:20 [DEBUG] - __exit__ for /wzdat/tests/__notes__/myprj/test-notebook3.manifest.ipynb\n"
       ]
      },
      {
       "output_type": "stream",
       "stream": "stdout",
       "text": [
        "2015/08/06 04:12:21 [INFO] - Cell returned\n"
       ]
      },
      {
       "output_type": "stream",
       "stream": "stdout",
       "text": [
        "2015/08/06 04:12:21 [INFO] - Cell returned\n"
       ]
      },
      {
       "output_type": "stream",
       "stream": "stdout",
       "text": [
        "\n"
       ]
      }
     ],
     "prompt_number": 2
    }
   ],
   "metadata": {}
  }
 ]
}