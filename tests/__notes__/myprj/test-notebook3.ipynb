{
 "metadata": {
  "name": "",
  "signature": "sha256:528347351d29612a2e3ecf11784186fb522f27d9c599d35372c7dad573b587b1"
 },
 "nbformat": 3,
 "nbformat_minor": 0,
 "worksheets": [
  {
   "cells": [
    {
     "cell_type": "code",
     "collapsed": false,
     "input": [
      "from wzdat.manifest import Manifest\n",
      "manifest = Manifest()\n",
      "df = manifest.depends.files.to_frame()\n",
      "df.msg = df.msg.apply(lambda m: m.encode('utf8'))\n",
      "manifest.output.hdf = df"
     ],
     "language": "python",
     "metadata": {},
     "outputs": [
      {
       "output_type": "stream",
       "stream": "stdout",
       "text": [
        " \r",
        "to_frame [================= 52%                  ]  94 of 181 complete"
       ]
      },
      {
       "output_type": "stream",
       "stream": "stdout",
       "text": [
        " \r",
        "to_frame [================ 100%==================]  181 of 181 complete"
       ]
      },
      {
       "output_type": "stream",
       "stream": "stdout",
       "text": [
        "\n"
       ]
      }
     ],
     "prompt_number": 1
    },
    {
     "cell_type": "code",
     "collapsed": false,
     "input": [],
     "language": "python",
     "metadata": {},
     "outputs": [],
     "prompt_number": 2
    }
   ],
   "metadata": {}
  }
 ]
}