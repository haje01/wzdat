{
 "metadata": {
  "name": "",
  "signature": "sha256:65c6dc5dfe87cfd458f1f4b3da6c43dfa630d57b772576352f29207c667364ec"
 },
 "nbformat": 3,
 "nbformat_minor": 0,
 "worksheets": [
  {
   "cells": [
    {
     "cell_type": "code",
     "collapsed": false,
     "input": [
      "from wzdat.util import Manifest\n",
      "manifest = Manifest()\n",
      "df = manifest.depends.files.to_frame()\n",
      "df.msg = df.msg.apply(lambda m: m.encode('utf8'))\n",
      "manifest.output.hdf = df"
     ],
     "language": "python",
     "metadata": {},
     "outputs": [
      {
       "output_type": "stream",
       "stream": "stdout",
       "text": [
        " \r",
        "to_frame [================= 87%=============     ]  157 of 181 complete"
       ]
      },
      {
       "output_type": "stream",
       "stream": "stdout",
       "text": [
        " \r",
        "to_frame [================ 100%==================]  181 of 181 complete"
       ]
      },
      {
       "output_type": "stream",
       "stream": "stdout",
       "text": [
        "\n"
       ]
      }
     ],
     "prompt_number": 1
    },
    {
     "cell_type": "code",
     "collapsed": false,
     "input": [],
     "language": "python",
     "metadata": {},
     "outputs": [],
     "prompt_number": 2
    }
   ],
   "metadata": {}
  }
 ]
}