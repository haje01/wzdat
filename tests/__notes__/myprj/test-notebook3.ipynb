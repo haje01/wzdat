{
 "metadata": {
  "name": "",
  "signature": "sha256:04112f47639ede2223fae446f0ec0741735584d31d2da10ccd213de4835ff135"
 },
 "nbformat": 3,
 "nbformat_minor": 0,
 "worksheets": [
  {
   "cells": [
    {
     "cell_type": "code",
     "collapsed": false,
     "input": [
      "df = manifest_.depends.files.to_frame()\n",
      "df.msg = df.msg.apply(lambda m: m.encode('utf8'))\n",
      "manifest_.output.hdf = df"
     ],
     "language": "python",
     "metadata": {},
     "outputs": [
      {
       "output_type": "stream",
       "stream": "stdout",
       "text": [
        " \r",
        "to_frame [================ 100%==================]  627 of 630 complete"
       ]
      },
      {
       "output_type": "stream",
       "stream": "stdout",
       "text": [
        " \r",
        "to_frame [================ 100%==================]  630 of 630 complete"
       ]
      },
      {
       "output_type": "stream",
       "stream": "stdout",
       "text": [
        "\n"
       ]
      }
     ],
     "prompt_number": 2
    }
   ],
   "metadata": {}
  }
 ]
}