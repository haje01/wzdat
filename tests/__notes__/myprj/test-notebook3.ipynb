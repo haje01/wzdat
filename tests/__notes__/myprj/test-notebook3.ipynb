{
 "metadata": {
  "name": "",
  "signature": "sha256:ed76609a9a5ebf0d98d9dbe449f3b18714753748e776a5ab47fb93ca57ae7352"
 },
 "nbformat": 3,
 "nbformat_minor": 0,
 "worksheets": [
  {
   "cells": [
    {
     "cell_type": "code",
     "collapsed": false,
     "input": [
      "from wzdat.manifest import Manifest\n",
      "\n",
      "with Manifest() as manifest:\n",
      "    df = manifest.depends.files.to_frame()\n",
      "    df.msg = df.msg.apply(lambda m: m.encode('utf8'))\n",
      "    manifest.output.hdf = df"
     ],
     "language": "python",
     "metadata": {},
     "outputs": [
      {
       "output_type": "stream",
       "stream": "stdout",
       "text": [
        " \r",
        "to_frame [================ 100%==================]  315 of 316 complete"
       ]
      },
      {
       "output_type": "stream",
       "stream": "stdout",
       "text": [
        " \r",
        "to_frame [================ 100%==================]  316 of 316 complete"
       ]
      },
      {
       "output_type": "stream",
       "stream": "stdout",
       "text": [
        "\n"
       ]
      }
     ],
     "prompt_number": 1
    },
    {
     "cell_type": "code",
     "collapsed": false,
     "input": [],
     "language": "python",
     "metadata": {},
     "outputs": [],
     "prompt_number": 2
    }
   ],
   "metadata": {}
  }
 ]
}