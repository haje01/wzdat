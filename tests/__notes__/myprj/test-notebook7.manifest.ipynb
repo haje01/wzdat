{
 "metadata": {
  "name": "",
  "signature": "sha256:14220c5c5ea275bd4e41be41459d232677a2a2964805953311b98e852ce5f6e8"
 },
 "nbformat": 3,
 "nbformat_minor": 0,
 "worksheets": [
  {
   "cells": [
    {
     "cell_type": "code",
     "collapsed": false,
     "input": [
      "{\n",
      "    'depends': {\n",
      "        'files': ['ws_mysol.myprj.dump', 3]\n",
      "    }\n",
      "}"
     ],
     "language": "python",
     "metadata": {},
     "outputs": [],
     "prompt_number": 1
    },
    {
     "cell_type": "code",
     "collapsed": false,
     "input": [
      "# WARNING: Generated Checksums. Do Not Edit.\n",
      "{\n",
      "    'last_run': '2015-08-18 09:00:42',\n",
      "    'depends': {\n",
      "        'files': -6545595509016936079\n",
      "    }\n",
      "}"
     ],
     "language": "python",
     "metadata": {},
     "outputs": [],
     "prompt_number": 1
    }
   ],
   "metadata": {}
  }
 ]
}