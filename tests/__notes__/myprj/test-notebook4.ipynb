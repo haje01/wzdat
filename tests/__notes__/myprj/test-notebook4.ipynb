{
 "metadata": {
  "name": "",
  "signature": "sha256:06e8fa322fd37c0642f2988d6cbcc9184d24dfe0a60d2eba38f1a3bd7b85929c"
 },
 "nbformat": 3,
 "nbformat_minor": 0,
 "worksheets": [
  {
   "cells": [
    {
     "cell_type": "code",
     "collapsed": false,
     "input": [
      "df = manifest_.depends.hdf\n",
      "df = df[df.level == 'INFO']\n",
      "manifest.output.hdf = df"
     ],
     "language": "python",
     "metadata": {},
     "outputs": [
      {
       "output_type": "stream",
       "stream": "stdout",
       "text": [
        "get_offline_nbpath /tmp/_offline_nbpath_\n",
        "2015/08/11 06:31:24 [DEBUG] - Manifest __init__ for /wzdat/tests/__notes__/myprj/test-notebook4.manifest.ipynb\n"
       ]
      },
      {
       "output_type": "stream",
       "stream": "stdout",
       "text": [
        "2015/08/11 06:31:24 [DEBUG] - __exit__ for /wzdat/tests/__notes__/myprj/test-notebook4.manifest.ipynb\n"
       ]
      },
      {
       "output_type": "stream",
       "stream": "stdout",
       "text": [
        "2015/08/11 06:31:25 [INFO] - Cell returned\n"
       ]
      },
      {
       "output_type": "stream",
       "stream": "stdout",
       "text": [
        "2015/08/11 06:31:25 [INFO] - Cell returned\n"
       ]
      }
     ],
     "prompt_number": 2
    },
    {
     "cell_type": "code",
     "collapsed": false,
     "input": [],
     "language": "python",
     "metadata": {},
     "outputs": [],
     "prompt_number": 3
    }
   ],
   "metadata": {}
  }
 ]
}