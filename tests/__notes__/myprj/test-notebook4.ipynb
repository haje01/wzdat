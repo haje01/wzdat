{
 "metadata": {
  "name": "",
  "signature": "sha256:fffac77c17bc6b1ab911c4fb13951f48f71ffd558a77f1c47736eb87c01412c8"
 },
 "nbformat": 3,
 "nbformat_minor": 0,
 "worksheets": [
  {
   "cells": [
    {
     "cell_type": "code",
     "collapsed": false,
     "input": [
      "from wzdat.manifest import Manifest\n",
      "with Manifest() as manifest:\n",
      "    df = manifest.depends.hdf\n",
      "    df[df.level == 'INFO']\n",
      "    manifest.output.hdf = df"
     ],
     "language": "python",
     "metadata": {},
     "outputs": [],
     "prompt_number": 4
    }
   ],
   "metadata": {}
  }
 ]
}