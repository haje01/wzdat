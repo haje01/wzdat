{
 "metadata": {
  "name": "",
  "signature": "sha256:75b070edec566b69af3e1d4c31e6b7c2bfdd211ed8f600380f95f27438fd29c0"
 },
 "nbformat": 3,
 "nbformat_minor": 0,
 "worksheets": [
  {
   "cells": [
    {
     "cell_type": "code",
     "collapsed": false,
     "input": [
      "df = manifest_.depends.hdf\n",
      "df = df[df.level == 'INFO']\n",
      "manifest_.output.hdf = df"
     ],
     "language": "python",
     "metadata": {},
     "outputs": [],
     "prompt_number": 2
    },
    {
     "cell_type": "code",
     "collapsed": false,
     "input": [],
     "language": "python",
     "metadata": {},
     "outputs": [],
     "prompt_number": 3
    }
   ],
   "metadata": {}
  }
 ]
}