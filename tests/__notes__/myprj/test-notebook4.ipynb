{
 "metadata": {
  "name": "",
  "signature": "sha256:c243c0f3fcb593ad31ba5a1786461f33f276b0988346ad33aebb566618b5e36e"
 },
 "nbformat": 3,
 "nbformat_minor": 0,
 "worksheets": [
  {
   "cells": [
    {
     "cell_type": "code",
     "collapsed": false,
     "input": [
      "from wzdat.manifest import Manifest\n",
      "with Manifest() as manifest:\n",
      "    df = manifest.depends.hdf\n",
      "    df = df[df.level == 'INFO']\n",
      "    manifest.output.hdf = df"
     ],
     "language": "python",
     "metadata": {},
     "outputs": [
      {
       "output_type": "stream",
       "stream": "stdout",
       "text": [
        "get_offline_nbpath /tmp/_offline_nbpath_\n",
        "2015/08/07 07:14:25 [DEBUG] - Manifest __init__ for /wzdat/tests/__notes__/myprj/test-notebook4.manifest.ipynb\n"
       ]
      },
      {
       "output_type": "stream",
       "stream": "stdout",
       "text": [
        "2015/08/07 07:14:25 [DEBUG] - __exit__ for /wzdat/tests/__notes__/myprj/test-notebook4.manifest.ipynb\n"
       ]
      },
      {
       "output_type": "stream",
       "stream": "stdout",
       "text": [
        "2015/08/07 07:14:26 [INFO] - Cell returned\n"
       ]
      },
      {
       "output_type": "stream",
       "stream": "stdout",
       "text": [
        "2015/08/07 07:14:26 [INFO] - Cell returned\n"
       ]
      }
     ],
     "prompt_number": 2
    },
    {
     "cell_type": "code",
     "collapsed": false,
     "input": [],
     "language": "python",
     "metadata": {},
     "outputs": [],
     "prompt_number": 3
    }
   ],
   "metadata": {}
  }
 ]
}