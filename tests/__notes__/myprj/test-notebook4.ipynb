{
 "metadata": {
  "name": "",
  "signature": "sha256:c243c0f3fcb593ad31ba5a1786461f33f276b0988346ad33aebb566618b5e36e"
 },
 "nbformat": 3,
 "nbformat_minor": 0,
 "worksheets": [
  {
   "cells": [
    {
     "cell_type": "code",
     "collapsed": false,
     "input": [
      "from wzdat.manifest import Manifest\n",
      "with Manifest() as manifest:\n",
      "    df = manifest.depends.hdf\n",
      "    df = df[df.level == 'INFO']\n",
      "    manifest.output.hdf = df"
     ],
     "language": "python",
     "metadata": {},
     "outputs": [
      {
       "output_type": "stream",
       "stream": "stdout",
       "text": [
        "2015/07/02 19:01:35 [DEBUG] - Manifest __init__ for /Users/haje01/works/wzdat/tests/__notes__/myprj/test-notebook4.manifest.ipynb\n"
       ]
      },
      {
       "output_type": "stream",
       "stream": "stdout",
       "text": [
        "2015/07/02 19:01:35 [DEBUG] - __exit__ for /Users/haje01/works/wzdat/tests/__notes__/myprj/test-notebook4.manifest.ipynb\n"
       ]
      },
      {
       "output_type": "stream",
       "stream": "stdout",
       "text": [
        "2015/07/02 19:01:36 [INFO] - Cell returned\n"
       ]
      },
      {
       "output_type": "stream",
       "stream": "stdout",
       "text": [
        "2015/07/02 19:01:36 [INFO] - Cell returned\n"
       ]
      }
     ],
     "prompt_number": 1
    },
    {
     "cell_type": "code",
     "collapsed": false,
     "input": [],
     "language": "python",
     "metadata": {},
     "outputs": [],
     "prompt_number": 2
    }
   ],
   "metadata": {}
  }
 ]
}