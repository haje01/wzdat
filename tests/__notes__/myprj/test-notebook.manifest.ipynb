{
 "metadata": {
  "name": "",
  "signature": "sha256:d3f18b9988f5e72e7d29be7635f11032235f21cc9c76304324de011ee0221dbb"
 },
 "nbformat": 3,
 "nbformat_minor": 0,
 "worksheets": [
  {
   "cells": [
    {
     "cell_type": "code",
     "collapsed": false,
     "input": [
      "{\n",
      "    'schedule': '* * * * *',\n",
      "    'group': 'Test'\n",
      "}"
     ],
     "language": "python",
     "metadata": {},
     "outputs": []
    }
   ],
   "metadata": {}
  }
 ]
}