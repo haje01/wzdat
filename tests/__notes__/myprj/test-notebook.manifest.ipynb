{
 "metadata": {
  "name": "",
  "signature": "sha256:27123b9927d01b9314bf128455ea2320e17ac9fe491e3585563772db2050fe5d"
 },
 "nbformat": 3,
 "nbformat_minor": 0,
 "worksheets": [
  {
   "cells": [
    {
     "cell_type": "code",
     "collapsed": false,
     "input": [
      "{\n",
      "    'schedule': '* * * * *',\n",
      "    'dashboard': {\n",
      "        'group': 'Test'\n",
      "    }\n",
      "}"
     ],
     "language": "python",
     "metadata": {},
     "outputs": [],
     "prompt_number": 1
    },
    {
     "cell_type": "code",
     "collapsed": false,
     "input": [
      "# WARNING: Generated Checksums. Do Not Edit.\n",
      "{\n",
      "    'last_run': '2015-08-18 18:15:04'\n",
      "}"
     ],
     "language": "python",
     "metadata": {},
     "outputs": [],
     "prompt_number": 1
    }
   ],
   "metadata": {}
  }
 ]
}