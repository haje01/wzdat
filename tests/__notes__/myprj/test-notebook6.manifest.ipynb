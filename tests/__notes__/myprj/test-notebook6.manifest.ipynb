{
 "metadata": {
  "name": "",
  "signature": "sha256:d105f839860f73d73751081b451b4d396cbdcfa8351b35be3ee34bcda1d14649"
 },
 "nbformat": 3,
 "nbformat_minor": 0,
 "worksheets": [
  {
   "cells": [
    {
     "cell_type": "code",
     "collapsed": false,
     "input": [
      "# recursive reference test\n",
      "{\n",
      "    'depends': {\n",
      "        'hdf': ['haje01', 'test3']\n",
      "    },\n",
      "    'output': {\n",
      "        'hdf': ['haje01', 'test3']\n",
      "    }\n",
      "}"
     ],
     "language": "python",
     "metadata": {},
     "outputs": []
    }
   ],
   "metadata": {}
  }
 ]
}