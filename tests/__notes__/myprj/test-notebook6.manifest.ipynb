{
 "metadata": {
  "name": "",
  "signature": "sha256:f736904af82bbd297a56d05fdbac250adb533c76f342bdc3f819cb9919b45ad0"
 },
 "nbformat": 3,
 "nbformat_minor": 0,
 "worksheets": [
  {
   "cells": [
    {
     "cell_type": "code",
     "collapsed": false,
     "input": [
      "{\n",
      "    'depends': {\n",
      "        'hdf': ['haje01', 'test3']\n",
      "    },\n",
      "    'output': {\n",
      "        'hdf': ['haje01', 'test3']\n",
      "    }\n",
      "}"
     ],
     "language": "python",
     "metadata": {},
     "outputs": []
    }
   ],
   "metadata": {}
  }
 ]
}