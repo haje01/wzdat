{
 "metadata": {
  "name": "",
  "signature": "sha256:762aefc353097b3b5c17b6e1053c1f37ef8c758e83490b13cdfcf5691db82280"
 },
 "nbformat": 3,
 "nbformat_minor": 0,
 "worksheets": [
  {
   "cells": [
    {
     "cell_type": "code",
     "collapsed": false,
     "input": [
      "#!dashboard_control\n",
      "from wzdat.dashboard.control import Form, Select\n",
      "form = Form()\n",
      "fruits = ['--', 'Apple', 'Banana', 'Orage']\n",
      "form['my_fruit'] = Select(fruits, fruits, 0, u'Choose Fruit To Eat')\n",
      "print form.register('form')"
     ],
     "language": "python",
     "metadata": {},
     "outputs": [
      {
       "output_type": "stream",
       "stream": "stdout",
       "text": [
        "<form class=\"form-inline ds-ctrl\" role=\"form\">\n",
        " <div class=\"form-group\">\n",
        "  <label>\n",
        "   Choose Fruit To Eat\n",
        "  </label>\n",
        "  <select name=\"my_fruit\">\n",
        "   <option value=\"--\" selected=\"true\">\n",
        "    --\n",
        "   </option>\n",
        "   <option value=\"Apple\">\n",
        "    Apple\n",
        "   </option>\n",
        "   <option value=\"Banana\">\n",
        "    Banana\n",
        "   </option>\n",
        "   <option value=\"Orage\">\n",
        "    Orage\n",
        "   </option>\n",
        "  </select>\n",
        " </div>\n",
        " <input type=\"hidden\" name=\"wzd_formname\" value=\"form\" />\n",
        " <button class=\"btn btn-primary btn-sm ladda-button view\" data-style=\"expand-right\" data-size=\"s\">\n",
        "  <span class=\"ladda-label\">\n",
        "   View\n",
        "  </span>\n",
        " </button>\n",
        "</form>\n"
       ]
      }
     ],
     "prompt_number": 2
    },
    {
     "cell_type": "code",
     "collapsed": false,
     "input": [
      "#!dashboard_view\n",
      "my_fruit = form['my_fruit'].val\n",
      "if my_fruit != '--':\n",
      "    print('Tasty {}!'.format(my_fruit))\n",
      "else:\n",
      "    print 'no data'\n",
      "    raise NoDataFound('no data')\n",
      "    print 'haha'"
     ],
     "language": "python",
     "metadata": {},
     "outputs": [
      {
       "output_type": "stream",
       "stream": "stdout",
       "text": [
        "no data\n",
        "no data\n"
       ]
      },
      {
       "ename": "NoDataFound",
       "evalue": "no data",
       "output_type": "pyerr",
       "traceback": [
        "\u001b[1;31m---------------------------------------------------------------------------\u001b[0m\n\u001b[1;31mNoDataFound\u001b[0m                               Traceback (most recent call last)",
        "\u001b[1;32m<ipython-input-3-226f27a0cbeb>\u001b[0m in \u001b[0;36m<module>\u001b[1;34m()\u001b[0m\n\u001b[0;32m      5\u001b[0m \u001b[1;32melse\u001b[0m\u001b[1;33m:\u001b[0m\u001b[1;33m\u001b[0m\u001b[0m\n\u001b[0;32m      6\u001b[0m     \u001b[1;32mprint\u001b[0m \u001b[1;34m'no data'\u001b[0m\u001b[1;33m\u001b[0m\u001b[0m\n\u001b[1;32m----> 7\u001b[1;33m     \u001b[1;32mraise\u001b[0m \u001b[0mNoDataFound\u001b[0m\u001b[1;33m(\u001b[0m\u001b[1;34m'no data'\u001b[0m\u001b[1;33m)\u001b[0m\u001b[1;33m\u001b[0m\u001b[0m\n\u001b[0m\u001b[0;32m      8\u001b[0m     \u001b[1;32mprint\u001b[0m \u001b[1;34m'haha'\u001b[0m\u001b[1;33m\u001b[0m\u001b[0m\n",
        "\u001b[1;31mNoDataFound\u001b[0m: "
       ]
      }
     ],
     "prompt_number": 3
    },
    {
     "cell_type": "code",
     "collapsed": false,
     "input": [
      "#!dashboard_view\n",
      "print 'hoho'"
     ],
     "language": "python",
     "metadata": {},
     "outputs": [
      {
       "output_type": "stream",
       "stream": "stdout",
       "text": [
        "hoho\n"
       ]
      }
     ],
     "prompt_number": 3
    },
    {
     "cell_type": "code",
     "collapsed": false,
     "input": [],
     "language": "python",
     "metadata": {},
     "outputs": [],
     "prompt_number": 5
    }
   ],
   "metadata": {}
  }
 ]
}